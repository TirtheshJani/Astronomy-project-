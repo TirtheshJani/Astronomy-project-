{
 "cells": [
  {
   "cell_type": "code",
   "execution_count": 1,
   "id": "e1218465",
   "metadata": {},
   "outputs": [],
   "source": [
    "from astropy.io import fits\n",
    "from astropy import units as u\n",
    "import numpy as np\n",
    "from matplotlib import pyplot as plt\n",
    "from astropy.visualization import quantity_support\n",
    "from astropy.wcs import WCS\n"
   ]
  },
  {
   "cell_type": "code",
   "execution_count": 2,
   "id": "30f8e5dd",
   "metadata": {},
   "outputs": [],
   "source": [
    "apogee= fits.open('apStar-dr17-2M06010117+3214538.fits')"
   ]
  },
  {
   "cell_type": "code",
   "execution_count": 3,
   "id": "6fb99a69",
   "metadata": {},
   "outputs": [
    {
     "data": {
      "text/plain": [
       "[<astropy.io.fits.hdu.image.PrimaryHDU object at 0x00000182E1CA4F70>, <astropy.io.fits.hdu.image.ImageHDU object at 0x00000182E1CF1370>, <astropy.io.fits.hdu.image.ImageHDU object at 0x00000182E1CF14C0>, <astropy.io.fits.hdu.image.ImageHDU object at 0x00000182E1CF17C0>, <astropy.io.fits.hdu.image.ImageHDU object at 0x00000182E1CF1940>, <astropy.io.fits.hdu.image.ImageHDU object at 0x00000182E1CF1850>, <astropy.io.fits.hdu.image.ImageHDU object at 0x00000182E1CF15E0>, <astropy.io.fits.hdu.image.ImageHDU object at 0x00000182E1CF11F0>, <astropy.io.fits.hdu.image.ImageHDU object at 0x00000182E1CF1B50>, <astropy.io.fits.hdu.table.BinTableHDU object at 0x00000182E1CF1D30>, <astropy.io.fits.hdu.table.BinTableHDU object at 0x00000182E1CF1F70>]"
      ]
     },
     "execution_count": 3,
     "metadata": {},
     "output_type": "execute_result"
    }
   ],
   "source": [
    "apogee"
   ]
  },
  {
   "cell_type": "code",
   "execution_count": 4,
   "id": "6831ddba",
   "metadata": {},
   "outputs": [
    {
     "name": "stdout",
     "output_type": "stream",
     "text": [
      "Filename: apStar-dr17-2M06010117+3214538.fits\n",
      "No.    Name      Ver    Type      Cards   Dimensions   Format\n",
      "  0  PRIMARY       1 PrimaryHDU     231   ()      \n",
      "  1                1 ImageHDU        12   (8575, 15)   float64   \n",
      "  2                1 ImageHDU        12   (8575, 15)   float64   \n",
      "  3                1 ImageHDU        12   (8575, 15)   int64   \n",
      "  4                1 ImageHDU        12   (8575, 15)   float64   \n",
      "  5                1 ImageHDU        12   (8575, 15)   float64   \n",
      "  6                1 ImageHDU        12   (8575, 15)   float64   \n",
      "  7                1 ImageHDU        12   (8575, 15)   float64   \n",
      "  8                1 ImageHDU         5   ()      \n",
      "  9                1 BinTableHDU     58   13R x 23C   [72A, D, D, D, D, D, D, D, D, D, D, D, D, D, 765D, 765D, 765D, D, D, D, D, D, 765D]   \n",
      " 10                1 BinTableHDU     58   1R x 23C   [72A, D, D, D, D, D, D, D, D, D, D, D, D, D, 243D, 243D, 243D, D, D, D, D, D, 243D]   \n"
     ]
    }
   ],
   "source": [
    "apogee.info()"
   ]
  },
  {
   "cell_type": "code",
   "execution_count": 5,
   "id": "02124708",
   "metadata": {},
   "outputs": [
    {
     "data": {
      "text/plain": [
       "SIMPLE  =                    T / conforms to FITS standard                      \n",
       "BITPIX  =                    8 / array data type                                \n",
       "NAXIS   =                    0 / number of array dimensions                     \n",
       "EXTEND  =                    T                                                  \n",
       "CRVAL1  =                4.179 / Start log10(wavelength) in subsequent HDUs     \n",
       "CDELT1  =                6E-06 / Dispersion in log10(wave) in subsequent HDUs   \n",
       "CRPIX1  =                    1 / Pixel of starting wavelength in subsequent HDUs\n",
       "CTYPE1  = 'LOG-LINEAR'         / Logarithmic wavelength scale in subsequent HDUs\n",
       "DC-FLAG =                    1 / Logarithmic wavelength scale in subsequent HDUs\n",
       "NWAVE   =                 8575 / Number of wavelengths in subsequent HDUs       \n",
       "FIELD   = '180+04  '           / APOGEE field name                              \n",
       "OBJID   = '2M06010117+3214538' / APOGEE object name                             \n",
       "SNR     =    499.7807250962227 / Median S/N per apStar pixel                    \n",
       "SNREV   =    463.1411685694209 / Median S/N per apStar pixel in middle chip     \n",
       "RA      =            90.254886 / right ascension, deg, J2000                    \n",
       "DEC     =            32.248287 / declination, deg, J2000                        \n",
       "GLON    =    178.8208769280241 / Galactic longitude                             \n",
       "GLAT    =    4.534179715081991 / Galactic latitude                              \n",
       "J       =     10.3149995803833 / 2MASS J magnitude                              \n",
       "J_ERR   =  0.02400000020861626 / 2MASS J magnitude uncertainty                  \n",
       "H       =    10.30399990081787 / 2MASS H magnitude                              \n",
       "H_ERR   =  0.03099999949336052 / 2MASS H magnitude uncertainty                  \n",
       "K       =    10.26000022888184 / 2MASS K magnitude                              \n",
       "K_ERR   =  0.02300000004470348 / 2MASS K magnitude uncertainty                  \n",
       "SRC_H   = '2MASS   '           / source of H magnitude                          \n",
       "WASH_M  =      -9999.990234375                                                  \n",
       "WASH_T2 =      -9999.990234375                                                  \n",
       "DDO51   =      -9999.990234375                                                  \n",
       "IRAC_3_6=      -9999.990234375                                                  \n",
       "IRAC_4_5=      -9999.990234375                                                  \n",
       "IRAC_5_8=      -9999.990234375                                                  \n",
       "WISE_4_5=    10.25899982452393                                                  \n",
       "TARG_4_5=    10.27299976348877                                                  \n",
       "AKTARG  = -0.05416187644004822 / Extinction used for targeting                  \n",
       "AKMETHOD= 'RJCE_WISE_PARTSKY'  / Extinction method using for targeting          \n",
       "AKWISE  = -0.00458993064239621 / WISE all-sky extinction                        \n",
       "SFD_EBV =      -9999.990234375 / SFD E(B-V)                                     \n",
       "APTARG1 =          -2147483584 / APOGEE_TARGET1 targeting flag                  \n",
       "APTARG2 =          -2147483136 / APOGEE_TARGET2 targeting flag                  \n",
       "AP2TARG1=                    0 / APOGEE2_TARGET1 targeting flag                 \n",
       "AP2TARG2=                    0 / APOGEE2_TARGET2 targeting flag                 \n",
       "AP2TARG3=                    0 / APOGEE2_TARGET3 targeting flag                 \n",
       "AP2TARG4=                    0 / APOGEE2_TARGET4 targeting flag                 \n",
       "NVISITS =                   13 / Number of visit spectra combined flag          \n",
       "STARFLAG=               133120 / bitwise OR of individual visit starflags       \n",
       "ANDFLAG =               131072 / bitwise AND of individual visit starflags      \n",
       "N_COMP  =                    0 / Maximum number of components in RV CCFs        \n",
       "VHELIO  =    2.922672519220612 / S/N weighted mean barycentric RV               \n",
       "VSCATTER=     16.9530131690077 / standard deviation of visit RVs                \n",
       "VERR    =   0.3265261683177803 / weighted error in VHELIO                       \n",
       "VERR_MED=    0.290555678532728 / median error in VHELIO                         \n",
       "RV_TEFF =     7700.31260227422 / Effective temperature from RV fit              \n",
       "RV_LOGG =    4.184742157972691 / Surface gravity from RV fit                    \n",
       "RV_FEH  =   -2.244610704851215 / Metallicity from RV fit                        \n",
       "RV_CHI2 =    14.53743267059326 / chisq from Doppler RV fit                      \n",
       "CCFWHM  =    967.9277761602506 / FWHM of RV CCF of star with template (km/s)    \n",
       "AUTOFWHM=    926.3086224340907 / FWHM of RV CCF of template with template (km/s)\n",
       "MEANFIB =    269.1434326171875 / S/N weighted mean fiber number                 \n",
       "SIGFIB  =    23.77269495957548 / standard deviation (unweighted) of fiber number\n",
       "NRES    = ' 5.00 4.25 3.50'    / number of pixels/resolution used for sinc      \n",
       "MIN_H   =      -9999.990234375 / minimum H mag of cohort                        \n",
       "MAX_H   =       9999.990234375 / maximum H mag of cohort                        \n",
       "MIN_JK  =      -9999.990234375 / minimum J-K of cohort                          \n",
       "MAX_JK  =       9999.990234375 / maximum J-K of cohort                          \n",
       "RMIN    =                 6283 / Min pixel of red chip contrib, any frame       \n",
       "RMAX    =                 8387 / Maxmm pixel of red chip contrib, any frame     \n",
       "GMIN    =                 3526 / Min pixel of green chip contrib, any frame     \n",
       "GMAX    =                 6135 / Maxm pixel of green chip contrib, any frame    \n",
       "BMIN    =                  192 / Min pixel of blue chip contrib, any frame      \n",
       "BMAX    =                 3331 / Maxm pixel of blue chip contrib, any frame     \n",
       "ROVERMIN=                 6302 / Min pixel of red chip contrib, all frames      \n",
       "ROVERMAX=                 8368 / Max pixel of red chip contrib, all frames      \n",
       "GOVERMIN=                 3545 / Min pixel of green chip contrib, all frames    \n",
       "GOVERMAX=                 6116 / Max pixel of green chip contrib, all frames    \n",
       "BOVERMIN=                  210 / Minimum pixel of blue chip contrib, all frames \n",
       "BOVERMAX=                 3313 / Maximum pixel of blue chip contrib, all frames \n",
       "COMMENT VISIT 1 INFORMATION                                                     \n",
       "SFILE1  = 'apVisit-dr17-5610-55929-249.fits' /  Visit #1 spectrum file          \n",
       "DATE1   = '2012-01-03T06:28:45.883' / DATE-OBS of visit 1                       \n",
       "JD1     =         2455929.7933 / Julian date of visit 1                         \n",
       "FIBER1  =                  249 / Fiber, visit 1                                 \n",
       "BC1     =   -6.232401847839355 / Barycentric correction (km/s), visit 1         \n",
       "VRAD1   =   -24.11564495520544 / Radial velocity (km/s) of visit 1              \n",
       "VERR1   =    0.239675150215426 / Uncertainty in radial velocity (km/s)          \n",
       "VHELIO1 =    -30.3480468030448 / Barycentric velocity (km/s), visit 1           \n",
       "SNRVIS1 =    180.3781845854539 / Median S/N per apStar pixel,, visit 1          \n",
       "FLAG1   =              1179648 / STARFLAG for visit 1                           \n",
       "COMMENT VISIT 2 INFORMATION                                                     \n",
       "SFILE2  = 'apVisit-dr17-5611-55930-249.fits' /  Visit #2 spectrum file          \n",
       "DATE2   = '2012-01-04T06:50:40.075' / DATE-OBS of visit 2                       \n",
       "JD2     =        2455930.80851 / Julian date of visit 2                         \n",
       "FIBER2  =                  249 / Fiber, visit 2                                 \n",
       "BC2     =   -6.786675453186035 / Barycentric correction (km/s), visit 2         \n",
       "VRAD2   =    24.14710235664656 / Radial velocity (km/s) of visit 2              \n",
       "VERR2   =   0.2554087264052589 / Uncertainty in radial velocity (km/s)          \n",
       "VHELIO2 =    17.36042690346052 / Barycentric velocity (km/s), visit 2           \n",
       "SNRVIS2 =    168.0183827584762 / Median S/N per apStar pixel,, visit 2          \n",
       "FLAG2   =              1179648 / STARFLAG for visit 2                           \n",
       "COMMENT VISIT 3 INFORMATION                                                     \n",
       "SFILE3  = 'apVisit-dr17-5610-55941-297.fits' /  Visit #3 spectrum file          \n",
       "DATE3   = '2012-01-15T06:38:30.091' / DATE-OBS of visit 3                       \n",
       "JD3     =        2455941.80005 / Julian date of visit 3                         \n",
       "FIBER3  =                  297 / Fiber, visit 3                                 \n",
       "BC3     =   -12.25668430328369 / Barycentric correction (km/s), visit 3         \n",
       "VRAD3   =  -0.9689998544382841 / Radial velocity (km/s) of visit 3              \n",
       "VERR3   =    0.720162551924608 / Uncertainty in radial velocity (km/s)          \n",
       "VHELIO3 =   -13.22568415772198 / Barycentric velocity (km/s), visit 3           \n",
       "SNRVIS3 =    99.39601023914244 / Median S/N per apStar pixel,, visit 3          \n",
       "FLAG3   =              1181696 / STARFLAG for visit 3                           \n",
       "COMMENT VISIT 4 INFORMATION                                                     \n",
       "SFILE4  = 'apVisit-dr17-5610-55963-298.fits' /  Visit #4 spectrum file          \n",
       "DATE4   = '2012-02-06T04:08:23.500' / DATE-OBS of visit 4                       \n",
       "JD4     =        2455963.69581 / Julian date of visit 4                         \n",
       "FIBER4  =                  298 / Fiber, visit 4                                 \n",
       "BC4     =       -21.4521484375 / Barycentric correction (km/s), visit 4         \n",
       "VRAD4   =    36.49887409694128 / Radial velocity (km/s) of visit 4              \n",
       "VERR4   =   0.2910292681843459 / Uncertainty in radial velocity (km/s)          \n",
       "VHELIO4 =    15.04672565944128 / Barycentric velocity (km/s), visit 4           \n",
       "SNRVIS4 =    135.1520034283876 / Median S/N per apStar pixel,, visit 4          \n",
       "FLAG4   =              1181696 / STARFLAG for visit 4                           \n",
       "COMMENT VISIT 5 INFORMATION                                                     \n",
       "SFILE5  = 'apVisit-dr17-5503-55967-279.fits' /  Visit #5 spectrum file          \n",
       "DATE5   = '2012-02-10T01:23:47.317' / DATE-OBS of visit 5                       \n",
       "JD5     =         2455967.5815 / Julian date of visit 5                         \n",
       "FIBER5  =                  279 / Fiber, visit 5                                 \n",
       "BC5     =   -22.58243942260742 / Barycentric correction (km/s), visit 5         \n",
       "VRAD5   =    44.45633906124868 / Radial velocity (km/s) of visit 5              \n",
       "VERR5   =   0.3483375600692414 / Uncertainty in radial velocity (km/s)          \n",
       "VHELIO5 =    21.87389963864126 / Barycentric velocity (km/s), visit 5           \n",
       "SNRVIS5 =    118.2145972756477 / Median S/N per apStar pixel,, visit 5          \n",
       "FLAG5   =              1179648 / STARFLAG for visit 5                           \n",
       "COMMENT VISIT 6 INFORMATION                                                     \n",
       "SFILE6  = 'apVisit-dr17-5610-55968-298.fits' /  Visit #6 spectrum file          \n",
       "DATE6   = '2012-02-11T04:14:17.329' / DATE-OBS of visit 6                       \n",
       "JD6     =        2455968.69991 / Julian date of visit 6                         \n",
       "FIBER6  =                  298 / Fiber, visit 6                                 \n",
       "BC6     =   -23.19224166870117 / Barycentric correction (km/s), visit 6         \n",
       "VRAD6   =    40.73084575877989 / Radial velocity (km/s) of visit 6              \n",
       "VERR6   =   0.2665664892306473 / Uncertainty in radial velocity (km/s)          \n",
       "VHELIO6 =    17.53860409007872 / Barycentric velocity (km/s), visit 6           \n",
       "SNRVIS6 =    153.6470512091903 / Median S/N per apStar pixel,, visit 6          \n",
       "FLAG6   =              1181696 / STARFLAG for visit 6                           \n",
       "COMMENT VISIT 7 INFORMATION                                                     \n",
       "SFILE7  = 'apVisit-dr17-5504-56205-249.fits' /  Visit #7 spectrum file          \n",
       "DATE7   = '2012-10-05T10:32:02.039' / DATE-OBS of visit 7                       \n",
       "JD7     =        2456205.96223 / Julian date of visit 7                         \n",
       "FIBER7  =                  249 / Fiber, visit 7                                 \n",
       "BC7     =    28.77155876159668 / Barycentric correction (km/s), visit 7         \n",
       "VRAD7   =   -16.00641793327945 / Radial velocity (km/s) of visit 7              \n",
       "VERR7   =   0.2896562820423577 / Uncertainty in radial velocity (km/s)          \n",
       "VHELIO7 =    12.76514082831723 / Barycentric velocity (km/s), visit 7           \n",
       "SNRVIS7 =     151.952013584987 / Median S/N per apStar pixel,, visit 7          \n",
       "FLAG7   =              1179648 / STARFLAG for visit 7                           \n",
       "COMMENT VISIT 8 INFORMATION                                                     \n",
       "SFILE8  = 'apVisit-dr17-5504-56239-250.fits' /  Visit #8 spectrum file          \n",
       "DATE8   = '2012-11-08T07:47:07.753' / DATE-OBS of visit 8                       \n",
       "JD8     =        2456239.84771 / Julian date of visit 8                         \n",
       "FIBER8  =                  250 / Fiber, visit 8                                 \n",
       "BC8     =    20.53194999694824 / Barycentric correction (km/s), visit 8         \n",
       "VRAD8   =   -33.12203358559093 / Radial velocity (km/s) of visit 8              \n",
       "VERR8   =   0.4188555095521466 / Uncertainty in radial velocity (km/s)          \n",
       "VHELIO8 =   -12.59008358864269 / Barycentric velocity (km/s), visit 8           \n",
       "SNRVIS8 =    104.5971565494463 / Median S/N per apStar pixel,, visit 8          \n",
       "FLAG8   =               131072 / STARFLAG for visit 8                           \n",
       "COMMENT VISIT 9 INFORMATION                                                     \n",
       "SFILE9  = 'apVisit-dr17-6340-56266-251.fits' /  Visit #9 spectrum file          \n",
       "DATE9   = '2012-12-05T08:49:10.710' / DATE-OBS of visit 9                       \n",
       "JD9     =         2456266.8908 / Julian date of visit 9                         \n",
       "FIBER9  =                  251 / Fiber, visit 9                                 \n",
       "BC9     =     8.30791187286377 / Barycentric correction (km/s), visit 9         \n",
       "VRAD9   =    18.04590050792748 / Radial velocity (km/s) of visit 9              \n",
       "VERR9   =   0.3538863955561696 / Uncertainty in radial velocity (km/s)          \n",
       "VHELIO9 =    26.35381238079125 / Barycentric velocity (km/s), visit 9           \n",
       "SNRVIS9 =    123.0867001096353 / Median S/N per apStar pixel,, visit 9          \n",
       "FLAG9   =              1179648 / STARFLAG for visit 9                           \n",
       "COMMENT VISIT 10 INFORMATION                                                    \n",
       "SFILE10 = 'apVisit-dr17-6340-56377-296.fits' /  Visit #10 spectrum file         \n",
       "DATE10  = '2013-03-26T03:37:18.148' / DATE-OBS of visit 10                      \n",
       "JD10    =        2456377.67422 / Julian date of visit 10                        \n",
       "FIBER10 =                  296 / Fiber, visit 10                                \n",
       "BC10    =   -29.64315795898438 / Barycentric correction (km/s), visit 10        \n",
       "VRAD10  =    18.43853258131153 / Radial velocity (km/s) of visit 10             \n",
       "VERR10  =    0.290555678532728 / Uncertainty in radial velocity (km/s)          \n",
       "VHELIO10=   -11.20462537767284 / Barycentric velocity (km/s), visit 10          \n",
       "SNRVIS10=    141.9731707292985 / Median S/N per apStar pixel,, visit 10         \n",
       "FLAG10  =              1181696 / STARFLAG for visit 10                          \n",
       "COMMENT VISIT 11 INFORMATION                                                    \n",
       "SFILE11 = 'apVisit-dr17-6341-56642-248.fits' /  Visit #11 spectrum file         \n",
       "DATE11  = '2013-12-16T09:42:34.850' / DATE-OBS of visit 11                      \n",
       "JD11    =        2456642.93366 / Julian date of visit 11                        \n",
       "FIBER11 =                  248 / Fiber, visit 11                                \n",
       "BC11    =    2.660054683685303 / Barycentric correction (km/s), visit 11        \n",
       "VRAD11  =  -0.5515318321669747 / Radial velocity (km/s) of visit 11             \n",
       "VERR11  =   0.2636931438541633 / Uncertainty in radial velocity (km/s)          \n",
       "VHELIO11=    2.108522851518328 / Barycentric velocity (km/s), visit 11          \n",
       "SNRVIS11=    163.2429580117244 / Median S/N per apStar pixel,, visit 11         \n",
       "FLAG11  =              1179648 / STARFLAG for visit 11                          \n",
       "COMMENT VISIT 12 INFORMATION                                                    \n",
       "SFILE12 = 'apVisit-dr17-6341-56650-248.fits' /  Visit #12 spectrum file         \n",
       "DATE12  = '2013-12-24T08:05:25.847' / DATE-OBS of visit 12                      \n",
       "JD12    =        2456650.86037 / Julian date of visit 12                        \n",
       "FIBER12 =                  248 / Fiber, visit 12                                \n",
       "BC12    =   -1.380848407745361 / Barycentric correction (km/s), visit 12        \n",
       "VRAD12  =      1.8088218701284 / Radial velocity (km/s) of visit 12             \n",
       "VERR12  =   0.2541844999642844 / Uncertainty in radial velocity (km/s)          \n",
       "VHELIO12=   0.4279734623830389 / Barycentric velocity (km/s), visit 12          \n",
       "SNRVIS12=    169.0627972434759 / Median S/N per apStar pixel,, visit 12         \n",
       "FLAG12  =              1179648 / STARFLAG for visit 12                          \n",
       "COMMENT VISIT 13 INFORMATION                                                    \n",
       "SFILE13 = 'apVisit-dr17-6341-56669-296.fits' /  Visit #13 spectrum file         \n",
       "DATE13  = '2014-01-12T06:24:26.823' / DATE-OBS of visit 13                      \n",
       "JD13    =        2456669.79024 / Julian date of visit 13                        \n",
       "FIBER13 =                  296 / Fiber, visit 13                                \n",
       "BC13    =   -11.01219749450684 / Barycentric correction (km/s), visit 13        \n",
       "VRAD13  =     6.14173056984567 / Radial velocity (km/s) of visit 13             \n",
       "VERR13  =   0.4124003067260614 / Uncertainty in radial velocity (km/s)          \n",
       "VHELIO13=   -4.870466924661166 / Barycentric velocity (km/s), visit 13          \n",
       "SNRVIS13=    164.8415481187617 / Median S/N per apStar pixel,, visit 13         \n",
       "FLAG13  =              1181696 / STARFLAG for visit 13                          \n",
       "HISTORY APOGEE Reduction Pipeline Version: 0.17.22                              \n",
       "HISTORY HDU0 : header                                                           \n",
       "HISTORY HDU1 : flux                                                             \n",
       "HISTORY HDU2 : flux uncertainty                                                 \n",
       "HISTORY HDU3 : pixel bitmask                                                    \n",
       "HISTORY HDU4 : sky                                                              \n",
       "HISTORY HDU5 : sky uncertainty                                                  \n",
       "HISTORY HDU6 : telluric                                                         \n",
       "HISTORY HDU7 : telluric uncertainty                                             \n",
       "HISTORY HDU8 : LSF table                                                        \n",
       "HISTORY HDU9 : RV table                                                         \n",
       "HISTORY HDU10 : RV table for combined spectrum                                  "
      ]
     },
     "execution_count": 5,
     "metadata": {},
     "output_type": "execute_result"
    }
   ],
   "source": [
    "apogee[0].header"
   ]
  },
  {
   "cell_type": "code",
   "execution_count": 6,
   "id": "1e557c7a",
   "metadata": {},
   "outputs": [
    {
     "data": {
      "text/plain": [
       "XTENSION= 'IMAGE   '           / Image extension                                \n",
       "BITPIX  =                  -64 / array data type                                \n",
       "NAXIS   =                    2 / number of array dimensions                     \n",
       "NAXIS1  =                 8575                                                  \n",
       "NAXIS2  =                   15                                                  \n",
       "PCOUNT  =                    0 / number of parameters                           \n",
       "GCOUNT  =                    1 / number of groups                               \n",
       "CRVAL1  =                4.179                                                  \n",
       "CDELT1  =                6E-06                                                  \n",
       "CRPIX1  =                    1                                                  \n",
       "CTYPE1  = 'LOG-LINEAR'                                                          \n",
       "BUNIT   = 'Flux (10^-17 erg/s/cm^2/Ang)'                                        "
      ]
     },
     "execution_count": 6,
     "metadata": {},
     "output_type": "execute_result"
    }
   ],
   "source": [
    "apogee[1].header\n"
   ]
  },
  {
   "cell_type": "markdown",
   "id": "7dee5b62",
   "metadata": {},
   "source": [
    "# If you just want to plot the spectrum of one star\n",
    "You can access the spectrum of a star by calling the single fitsfile.  Then you can get its wavelength and flux."
   ]
  },
  {
   "cell_type": "code",
   "execution_count": 7,
   "id": "c951aac0",
   "metadata": {},
   "outputs": [
    {
     "data": {
      "text/plain": [
       "Text(0, 0.5, 'normalized flux')"
      ]
     },
     "execution_count": 7,
     "metadata": {},
     "output_type": "execute_result"
    },
    {
     "data": {
      "image/png": "[encoded data removed]",
      "text/plain": [
       "<Figure size 432x288 with 1 Axes>"
      ]
     },
     "metadata": {
      "needs_background": "light"
     },
     "output_type": "display_data"
    }
   ],
   "source": [
    "hdul = fits.open('apStar-dr17-2M06010117+3214538.fits')\n",
    "data = hdul[1].data\n",
    "h1 = hdul[1].header\n",
    "\n",
    "flux = data[1]\n",
    "w = WCS(h1, naxis=1, relax=False, fix=False)\n",
    "lam = w.wcs_pix2world(np.arange(len(flux)), 0)[0]\n",
    "\n",
    "plt.plot(lam, flux)\n",
    "plt.ylim(0, )\n",
    "plt.xlabel('Wavelength (Angstrom)')\n",
    "plt.ylabel('normalized flux')"
   ]
  },
  {
   "cell_type": "code",
   "execution_count": 8,
   "id": "2ff31b48",
   "metadata": {},
   "outputs": [
    {
     "data": {
      "text/plain": [
       "Text(0, 0.5, 'flux')"
      ]
     },
     "execution_count": 8,
     "metadata": {},
     "output_type": "execute_result"
    },
    {
     "data": {
      "image/png": "[encoded data removed]",
      "text/plain": [
       "<Figure size 432x288 with 1 Axes>"
      ]
     },
     "metadata": {
      "needs_background": "light"
     },
     "output_type": "display_data"
    }
   ],
   "source": [
    "hdul = fits.open('apStar-dr17-2M05241847+2635366.fits')\n",
    "data = hdul[1].data\n",
    "h1 = hdul[1].header\n",
    "\n",
    "flux = data[1]\n",
    "w = WCS(h1, naxis=1, relax=False, fix=False)\n",
    "lam = w.wcs_pix2world(np.arange(len(flux)), 0)[0]\n",
    "\n",
    "plt.plot(lam, flux)\n",
    "plt.ylim(0, )\n",
    "plt.xlabel('Wavelength (Angstrom)')\n",
    "plt.ylabel('flux')"
   ]
  },
  {
   "cell_type": "code",
   "execution_count": 9,
   "id": "d7659ef4",
   "metadata": {},
   "outputs": [
    {
     "data": {
      "text/plain": [
       "Text(0, 0.5, 'flux')"
      ]
     },
     "execution_count": 9,
     "metadata": {},
     "output_type": "execute_result"
    },
    {
     "data": {
      "image/png": "[encoded data removed]",
      "text/plain": [
       "<Figure size 432x288 with 1 Axes>"
      ]
     },
     "metadata": {
      "needs_background": "light"
     },
     "output_type": "display_data"
    }
   ],
   "source": [
    "hdul = fits.open('apStar-dr17-2M05244511+2730365.fits')\n",
    "data = hdul[1].data\n",
    "h1 = hdul[1].header\n",
    "\n",
    "flux = data[1]\n",
    "w = WCS(h1, naxis=1, relax=False, fix=False)\n",
    "lam = w.wcs_pix2world(np.arange(len(flux)), 0)[0]\n",
    "\n",
    "plt.plot(lam, flux)\n",
    "plt.ylim(0, )\n",
    "plt.xlabel('Wavelength (Angstrom)')\n",
    "plt.ylabel('flux')"
   ]
  },
  {
   "cell_type": "code",
   "execution_count": null,
   "id": "28c04441",
   "metadata": {},
   "outputs": [],
   "source": []
  },
  {
   "cell_type": "code",
   "execution_count": null,
   "id": "11c2fea2",
   "metadata": {},
   "outputs": [],
   "source": []
  }
 ],
 "metadata": {
  "kernelspec": {
   "display_name": "Python 3 (ipykernel)",
   "language": "python",
   "name": "python3"
  },
  "language_info": {
   "codemirror_mode": {
    "name": "ipython",
    "version": 3
   },
   "file_extension": ".py",
   "mimetype": "text/x-python",
   "name": "python",
   "nbconvert_exporter": "python",
   "pygments_lexer": "ipython3",
   "version": "3.9.7"
  }
 },
 "nbformat": 4,
 "nbformat_minor": 5
}
